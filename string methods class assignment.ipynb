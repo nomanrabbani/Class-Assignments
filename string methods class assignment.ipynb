{
 "cells": [
  {
   "cell_type": "markdown",
   "metadata": {},
   "source": [
    "# All String Functions (Class Assignment)\n",
    "___"
   ]
  },
  {
   "cell_type": "code",
   "execution_count": 3,
   "metadata": {},
   "outputs": [
    {
     "data": {
      "text/plain": [
       "['__add__',\n",
       " '__class__',\n",
       " '__contains__',\n",
       " '__delattr__',\n",
       " '__dir__',\n",
       " '__doc__',\n",
       " '__eq__',\n",
       " '__format__',\n",
       " '__ge__',\n",
       " '__getattribute__',\n",
       " '__getitem__',\n",
       " '__getnewargs__',\n",
       " '__gt__',\n",
       " '__hash__',\n",
       " '__init__',\n",
       " '__init_subclass__',\n",
       " '__iter__',\n",
       " '__le__',\n",
       " '__len__',\n",
       " '__lt__',\n",
       " '__mod__',\n",
       " '__mul__',\n",
       " '__ne__',\n",
       " '__new__',\n",
       " '__reduce__',\n",
       " '__reduce_ex__',\n",
       " '__repr__',\n",
       " '__rmod__',\n",
       " '__rmul__',\n",
       " '__setattr__',\n",
       " '__sizeof__',\n",
       " '__str__',\n",
       " '__subclasshook__',\n",
       " 'capitalize',\n",
       " 'casefold',\n",
       " 'center',\n",
       " 'count',\n",
       " 'encode',\n",
       " 'endswith',\n",
       " 'expandtabs',\n",
       " 'find',\n",
       " 'format',\n",
       " 'format_map',\n",
       " 'index',\n",
       " 'isalnum',\n",
       " 'isalpha',\n",
       " 'isascii',\n",
       " 'isdecimal',\n",
       " 'isdigit',\n",
       " 'isidentifier',\n",
       " 'islower',\n",
       " 'isnumeric',\n",
       " 'isprintable',\n",
       " 'isspace',\n",
       " 'istitle',\n",
       " 'isupper',\n",
       " 'join',\n",
       " 'ljust',\n",
       " 'lower',\n",
       " 'lstrip',\n",
       " 'maketrans',\n",
       " 'partition',\n",
       " 'replace',\n",
       " 'rfind',\n",
       " 'rindex',\n",
       " 'rjust',\n",
       " 'rpartition',\n",
       " 'rsplit',\n",
       " 'rstrip',\n",
       " 'split',\n",
       " 'splitlines',\n",
       " 'startswith',\n",
       " 'strip',\n",
       " 'swapcase',\n",
       " 'title',\n",
       " 'translate',\n",
       " 'upper',\n",
       " 'zfill']"
      ]
     },
     "execution_count": 3,
     "metadata": {},
     "output_type": "execute_result"
    }
   ],
   "source": [
    "python = \"python is an interpreted language\"\n",
    "dir(python)"
   ]
  },
  {
   "cell_type": "code",
   "execution_count": 12,
   "metadata": {},
   "outputs": [
    {
     "name": "stdout",
     "output_type": "stream",
     "text": [
      "Python is an interpreted language\n"
     ]
    }
   ],
   "source": [
    "pyhton = \"python is an interpreted language\"\n",
    "print(python.capitalize())  #Converts the first character to upper case"
   ]
  },
  {
   "cell_type": "code",
   "execution_count": 13,
   "metadata": {},
   "outputs": [
    {
     "name": "stdout",
     "output_type": "stream",
     "text": [
      "python is an interpreted language\n"
     ]
    }
   ],
   "source": [
    "python = \"PYTHON IS AN INTERPRETED LANGUAGE\"\n",
    "print(python.casefold())  #Converts string into lower case"
   ]
  },
  {
   "cell_type": "code",
   "execution_count": 14,
   "metadata": {},
   "outputs": [
    {
     "name": "stdout",
     "output_type": "stream",
     "text": [
      "PYTHON IS AN INTERPRETED LANGUAGE\n"
     ]
    }
   ],
   "source": [
    "python = \"python is an interpreted language\"\n",
    "print(python.upper())  #Converts a string into upper case"
   ]
  },
  {
   "cell_type": "code",
   "execution_count": 15,
   "metadata": {},
   "outputs": [
    {
     "name": "stdout",
     "output_type": "stream",
     "text": [
      "python is an interpreted language\n"
     ]
    }
   ],
   "source": [
    "python = \"PYTHON IS AN INTERPRETED LANGUAGE\"\n",
    "print(python.lower())  ##Converts a string into lower case"
   ]
  },
  {
   "cell_type": "code",
   "execution_count": 95,
   "metadata": {},
   "outputs": [
    {
     "name": "stdout",
     "output_type": "stream",
     "text": [
      "7\n",
      "13\n"
     ]
    }
   ],
   "source": [
    "python = \"python is an interpreted language\"\n",
    "print(python.find(\"i\"))\n",
    "print(python.find(\"i\",13,33))  #find(sub, start, end)\n",
    "\n",
    "#Searches the string for a specified value and returns the position of where it was found\n"
   ]
  },
  {
   "cell_type": "code",
   "execution_count": 92,
   "metadata": {},
   "outputs": [
    {
     "name": "stdout",
     "output_type": "stream",
     "text": [
      "30\n",
      "31\n",
      "8\n",
      "-1\n",
      "25\n"
     ]
    }
   ],
   "source": [
    "a = \"python is an interpreted language\"\n",
    "\n",
    "print(a.rfind(\"a\"))\n",
    "print(a.rfind(\"g\"))\n",
    "print(a.rfind(\"s\"))\n",
    "print(a.rfind(\"z\")) # z is not available in the string so the result should be -1(False)\n",
    "print(a.rfind(\"language\"))\n",
    "\n",
    "#This is same as find() just that this function returns the last index where ‘str’ is found. If ‘str’ is not found, it returns ‘-1’."
   ]
  },
  {
   "cell_type": "code",
   "execution_count": 37,
   "metadata": {},
   "outputs": [
    {
     "name": "stdout",
     "output_type": "stream",
     "text": [
      "--------python is an interpreted language---------\n"
     ]
    }
   ],
   "source": [
    "python = \"python is an interpreted language\"\n",
    "print(python.center(50,'-')) \n",
    "#Return centered in a string of length width. Padding is done using the specified fillchar (default is a space)"
   ]
  },
  {
   "cell_type": "code",
   "execution_count": 51,
   "metadata": {},
   "outputs": [
    {
     "name": "stdout",
     "output_type": "stream",
     "text": [
      "0\n",
      "3\n",
      "1\n",
      "1\n"
     ]
    }
   ],
   "source": [
    "python = \"python is an interpreted language\"\n",
    "print(python.count('P')) # no capital \"P\" is present so the result should be 0(zero, fasle)\n",
    "print(python.count('a')) # total numbers of a's present\n",
    "print(python.count('interpreted')) # the result should be 1(true) as \"interpreted\" is present \n",
    "print(python.count('an',7,-9)) # count(sub, start, end), substring \"an\" is present between value 7 and -9"
   ]
  },
  {
   "cell_type": "code",
   "execution_count": 52,
   "metadata": {},
   "outputs": [
    {
     "name": "stdout",
     "output_type": "stream",
     "text": [
      "b'python is an interpreted language'\n"
     ]
    }
   ],
   "source": [
    "python = \"python is an interpreted language\"\n",
    "print(python.encode())\n",
    "# Returns an encoded version of the string"
   ]
  },
  {
   "cell_type": "code",
   "execution_count": 63,
   "metadata": {},
   "outputs": [
    {
     "name": "stdout",
     "output_type": "stream",
     "text": [
      "True\n",
      "True\n",
      "True\n",
      "False\n"
     ]
    }
   ],
   "source": [
    "python = \"python is an interpreted language\"\n",
    "print(python.endswith('e'))\n",
    "print(python.endswith('age'))\n",
    "print(python.endswith('on',0,6)) # endswith(suffix, start, end)\n",
    "print(python.endswith('ted'))\n",
    "\n",
    "#Returns true if the string ends with the specified value"
   ]
  },
  {
   "cell_type": "code",
   "execution_count": 79,
   "metadata": {},
   "outputs": [
    {
     "name": "stdout",
     "output_type": "stream",
     "text": [
      "Apple \t Ball \t Cat\n",
      "Apple    Ball    Cat\n",
      "Apple        Ball        Cat\n",
      "Apple    Ball    Cat\n"
     ]
    }
   ],
   "source": [
    "a = \"Apple \\t Ball \\t Cat\"           # \"\\t\" is a tab character \n",
    "print(a)                             # 8 index spaces by default\n",
    "print(a.expandtabs())\n",
    "print(a.expandtabs(12))              # 12 = tabsize\n",
    "print(a.expandtabs(2)) \n",
    "\n",
    "#Sets the tab size of the string"
   ]
  },
  {
   "cell_type": "code",
   "execution_count": 90,
   "metadata": {},
   "outputs": [
    {
     "name": "stdout",
     "output_type": "stream",
     "text": [
      "Tea and Coffee\n",
      "Coffee and Tea\n",
      "Peas and Beans\n",
      "1, 2, 3\n",
      "Lunch: Pizza, coffee\n"
     ]
    }
   ],
   "source": [
    "# Example 1\n",
    "print(\"{} and {}\".format(\"Tea\", \"Coffee\"))\n",
    "\n",
    "# Example 2\n",
    "print(\"{1} and {0}\".format(\"Tea\", \"Coffee\"))\n",
    "\n",
    "# Example 3\n",
    "print(\"{lunch} and {dinner}\".format(lunch=\"Peas\", dinner=\"Beans\"))\n",
    "\n",
    "# Example 4\n",
    "print(\"{0}, {1}, {2}\".format(*\"123\"))\n",
    "\n",
    "# Example 5\n",
    "lunch = {\"food\": \"Pizza\", \"drink\": \"coffee\"}\n",
    "print(\"Lunch: {food}, {drink}\".format(**lunch))"
   ]
  },
  {
   "cell_type": "code",
   "execution_count": 92,
   "metadata": {},
   "outputs": [
    {
     "name": "stdout",
     "output_type": "stream",
     "text": [
      "0\n",
      "3\n",
      "3\n",
      "4\n"
     ]
    },
    {
     "ename": "ValueError",
     "evalue": "substring not found",
     "output_type": "error",
     "traceback": [
      "\u001b[1;31m---------------------------------------------------------------------------\u001b[0m",
      "\u001b[1;31mValueError\u001b[0m                                Traceback (most recent call last)",
      "\u001b[1;32m<ipython-input-92-f7de8887efb8>\u001b[0m in \u001b[0;36m<module>\u001b[1;34m\u001b[0m\n\u001b[0;32m      4\u001b[0m \u001b[0mprint\u001b[0m\u001b[1;33m(\u001b[0m\u001b[0ma\u001b[0m\u001b[1;33m.\u001b[0m\u001b[0mindex\u001b[0m\u001b[1;33m(\u001b[0m\u001b[1;34m\"ness\"\u001b[0m\u001b[1;33m)\u001b[0m\u001b[1;33m)\u001b[0m\u001b[1;33m\u001b[0m\u001b[1;33m\u001b[0m\u001b[0m\n\u001b[0;32m      5\u001b[0m \u001b[0mprint\u001b[0m\u001b[1;33m(\u001b[0m\u001b[0ma\u001b[0m\u001b[1;33m.\u001b[0m\u001b[0mindex\u001b[0m\u001b[1;33m(\u001b[0m\u001b[1;34m\"ess\"\u001b[0m\u001b[1;33m)\u001b[0m\u001b[1;33m)\u001b[0m\u001b[1;33m\u001b[0m\u001b[1;33m\u001b[0m\u001b[0m\n\u001b[1;32m----> 6\u001b[1;33m \u001b[0mprint\u001b[0m\u001b[1;33m(\u001b[0m\u001b[0ma\u001b[0m\u001b[1;33m.\u001b[0m\u001b[0mindex\u001b[0m\u001b[1;33m(\u001b[0m\u001b[1;34m\"z\"\u001b[0m\u001b[1;33m)\u001b[0m\u001b[1;33m)\u001b[0m   \u001b[1;31m#Error\u001b[0m\u001b[1;33m\u001b[0m\u001b[1;33m\u001b[0m\u001b[0m\n\u001b[0m\u001b[0;32m      7\u001b[0m \u001b[1;31m# Like find() (above), but raises a ValueError when the substring is not found (while find() returns -1 when the substring isn't found).\u001b[0m\u001b[1;33m\u001b[0m\u001b[1;33m\u001b[0m\u001b[1;33m\u001b[0m\u001b[0m\n",
      "\u001b[1;31mValueError\u001b[0m: substring not found"
     ]
    }
   ],
   "source": [
    "a = \"Fitness\"\n",
    "print(a.index(\"F\"))\n",
    "print(a.index(\"n\"))\n",
    "print(a.index(\"ness\"))\n",
    "print(a.index(\"ess\"))\n",
    "print(a.index(\"z\"))   #Error\n",
    "# Like find() (above), but raises a ValueError when the substring is not found (while find() returns -1 when the substring isn't found)."
   ]
  },
  {
   "cell_type": "code",
   "execution_count": 97,
   "metadata": {},
   "outputs": [
    {
     "name": "stdout",
     "output_type": "stream",
     "text": [
      "0\n",
      "8\n",
      "10\n",
      "9\n"
     ]
    },
    {
     "ename": "ValueError",
     "evalue": "substring not found",
     "output_type": "error",
     "traceback": [
      "\u001b[1;31m---------------------------------------------------------------------------\u001b[0m",
      "\u001b[1;31mValueError\u001b[0m                                Traceback (most recent call last)",
      "\u001b[1;32m<ipython-input-97-66cc1930e780>\u001b[0m in \u001b[0;36m<module>\u001b[1;34m\u001b[0m\n\u001b[0;32m      5\u001b[0m \u001b[0mprint\u001b[0m\u001b[1;33m(\u001b[0m\u001b[0ma\u001b[0m\u001b[1;33m.\u001b[0m\u001b[0mrindex\u001b[0m\u001b[1;33m(\u001b[0m\u001b[1;34m\"s\"\u001b[0m\u001b[1;33m)\u001b[0m\u001b[1;33m)\u001b[0m\u001b[1;33m\u001b[0m\u001b[1;33m\u001b[0m\u001b[0m\n\u001b[0;32m      6\u001b[0m \u001b[0mprint\u001b[0m\u001b[1;33m(\u001b[0m\u001b[0ma\u001b[0m\u001b[1;33m.\u001b[0m\u001b[0mrindex\u001b[0m\u001b[1;33m(\u001b[0m\u001b[1;34m\"ss\"\u001b[0m\u001b[1;33m)\u001b[0m\u001b[1;33m)\u001b[0m\u001b[1;33m\u001b[0m\u001b[1;33m\u001b[0m\u001b[0m\n\u001b[1;32m----> 7\u001b[1;33m \u001b[0mprint\u001b[0m\u001b[1;33m(\u001b[0m\u001b[0ma\u001b[0m\u001b[1;33m.\u001b[0m\u001b[0mrindex\u001b[0m\u001b[1;33m(\u001b[0m\u001b[1;34m\"y\"\u001b[0m\u001b[1;33m)\u001b[0m\u001b[1;33m)\u001b[0m\u001b[1;33m\u001b[0m\u001b[1;33m\u001b[0m\u001b[0m\n\u001b[0m\u001b[0;32m      8\u001b[0m \u001b[1;33m\u001b[0m\u001b[0m\n\u001b[0;32m      9\u001b[0m \u001b[1;31m#Like rfind() but raises ValueError when the substring sub is not found.\u001b[0m\u001b[1;33m\u001b[0m\u001b[1;33m\u001b[0m\u001b[1;33m\u001b[0m\u001b[0m\n",
      "\u001b[1;31mValueError\u001b[0m: substring not found"
     ]
    }
   ],
   "source": [
    "a = \"Yes Fitness\"\n",
    "\n",
    "print(a.rindex(\"Y\"))\n",
    "print(a.rindex(\"e\"))\n",
    "print(a.rindex(\"s\"))\n",
    "print(a.rindex(\"ss\"))\n",
    "print(a.rindex(\"y\"))\n",
    "\n",
    "#Like rfind() but raises ValueError when the substring sub is not found."
   ]
  },
  {
   "cell_type": "code",
   "execution_count": 106,
   "metadata": {},
   "outputs": [
    {
     "name": "stdout",
     "output_type": "stream",
     "text": [
      "True\n",
      "True\n",
      "False\n",
      "False\n"
     ]
    }
   ],
   "source": [
    "c = \"Fitness\"\n",
    "print(c.isalnum())\n",
    "\n",
    "c = \"123456APPle\"\n",
    "print(c.isalnum())\n",
    "\n",
    "c = \"1.2\"\n",
    "print(c.isalnum())\n",
    "\n",
    "c = \"@*#111\"\n",
    "print(c.isalnum())\n",
    "\n",
    "#Returns True if all characters in the string are alphanumeric"
   ]
  },
  {
   "cell_type": "code",
   "execution_count": 107,
   "metadata": {},
   "outputs": [
    {
     "name": "stdout",
     "output_type": "stream",
     "text": [
      "True\n",
      "False\n",
      "False\n"
     ]
    }
   ],
   "source": [
    "c = \"Fitness\"\n",
    "print(c.isalpha())\n",
    "\n",
    "c = \"123\"\n",
    "print(c.isalpha())\n",
    "\n",
    "c = \"$*%!!!\"\n",
    "print(c.isalpha())\n",
    "\n",
    "#Returns True if all characters in the string are alphabetic and there is at least one character. Returns False otherwise."
   ]
  },
  {
   "cell_type": "code",
   "execution_count": 110,
   "metadata": {},
   "outputs": [
    {
     "name": "stdout",
     "output_type": "stream",
     "text": [
      "True\n",
      "False\n",
      "False\n",
      "False\n",
      "False\n"
     ]
    }
   ],
   "source": [
    "c = \"123\"\n",
    "print(c.isdecimal())\n",
    "\n",
    "c = \"1.23\"\n",
    "print(c.isdecimal())\n",
    "\n",
    "c = \"u123\"\n",
    "print(c.isdecimal())\n",
    "\n",
    "c = \"Fitness\"\n",
    "print(c.isdecimal())\n",
    "\n",
    "c = \"$*%!!!\"\n",
    "print(c.isdecimal())\n",
    "\n",
    "#Returns True if all characters in the string are decimal characters and there is at least one character. Returns False otherwise."
   ]
  },
  {
   "cell_type": "code",
   "execution_count": 1,
   "metadata": {},
   "outputs": [
    {
     "name": "stdout",
     "output_type": "stream",
     "text": [
      "True\n",
      "False\n",
      "False\n",
      "False\n",
      "False\n"
     ]
    }
   ],
   "source": [
    "c = \"123\"\n",
    "print(c.isdigit())\n",
    "\n",
    "c = \"1.23\"\n",
    "print(c.isdigit())\n",
    "\n",
    "c = \"u123\"\n",
    "print(c.isdigit())\n",
    "\n",
    "c = \"Fitness\"\n",
    "print(c.isdigit())\n",
    "\n",
    "c = \"$*%!!!\"\n",
    "print(c.isdigit())\n",
    "#Returns True if all characters in the string are digits and there is at least one character. Returns False otherwise.\n",
    "\n"
   ]
  },
  {
   "cell_type": "code",
   "execution_count": 3,
   "metadata": {},
   "outputs": [
    {
     "name": "stdout",
     "output_type": "stream",
     "text": [
      "False\n",
      "True\n",
      "False\n",
      "True\n",
      "True\n"
     ]
    }
   ],
   "source": [
    "a = \"123\"\n",
    "print(a.isidentifier())\n",
    "\n",
    "a = \"_user_123\"\n",
    "print(a.isidentifier())\n",
    "\n",
    "a = \"_user-123\"\n",
    "print(a.isidentifier())\n",
    "\n",
    "a = \"Homer\"\n",
    "print(a.isidentifier())\n",
    "\n",
    "a = \"for\"\n",
    "print(a.isidentifier())\n",
    "\n",
    "#Returns true if the string is a valid identifier according to the language definition"
   ]
  },
  {
   "cell_type": "code",
   "execution_count": 5,
   "metadata": {},
   "outputs": [
    {
     "name": "stdout",
     "output_type": "stream",
     "text": [
      "True\n",
      "False\n",
      "False\n",
      "False\n",
      "False\n"
     ]
    }
   ],
   "source": [
    "c = \"123\"\n",
    "print(c.isnumeric())\n",
    "\n",
    "c = \"1.23\"\n",
    "print(c.isnumeric())\n",
    "\n",
    "c = \"u123\"\n",
    "print(c.isnumeric())\n",
    "\n",
    "c = \"Fitness\"\n",
    "print(c.isnumeric())\n",
    "\n",
    "c = \"$*%!!!\"\n",
    "print(c.isnumeric())\n",
    "\n",
    "#Returns True if all characters in the string are numeric characters, and there is at least one character"
   ]
  },
  {
   "cell_type": "code",
   "execution_count": 33,
   "metadata": {},
   "outputs": [
    {
     "name": "stdout",
     "output_type": "stream",
     "text": [
      "True\n",
      "True\n",
      "True\n",
      "False\n",
      "False\n",
      "False\n"
     ]
    }
   ],
   "source": [
    "a = \"\"\n",
    "print(a.isprintable())\n",
    "\n",
    "a = \" \"\n",
    "print(a.isprintable())\n",
    "\n",
    "a = \"Bart\"\n",
    "print(a.isprintable())\n",
    "\n",
    "a = \"\\t\"\n",
    "print(a.isprintable())\n",
    "\n",
    "a = \"\\r\\n\"\n",
    "print(a.isprintable())\n",
    "\n",
    "a = \"But \\n why\"\n",
    "print(a.isprintable())\n",
    "\n",
    "#Returns True if all characters in the string are printable or the string is empty."
   ]
  },
  {
   "cell_type": "code",
   "execution_count": 35,
   "metadata": {},
   "outputs": [
    {
     "name": "stdout",
     "output_type": "stream",
     "text": [
      "False\n",
      "True\n",
      "False\n",
      "True\n",
      "True\n",
      "False\n"
     ]
    }
   ],
   "source": [
    "a = \"\"\n",
    "print(a.isspace())\n",
    "\n",
    "a = \" \"\n",
    "print(a.isspace())\n",
    "\n",
    "a = \"Hello\"\n",
    "print(a.isspace())\n",
    "\n",
    "a = \"\\t\"\n",
    "print(a.isspace())\n",
    "\n",
    "a = \"\\r\\n\"\n",
    "print(a.isspace())\n",
    "\n",
    "a = \"Hello \\n\"\n",
    "print(a.isspace())\n",
    "\n",
    "#Returns True if there are only whitespace characters in the string and there is at least one character."
   ]
  },
  {
   "cell_type": "code",
   "execution_count": 44,
   "metadata": {},
   "outputs": [
    {
     "name": "stdout",
     "output_type": "stream",
     "text": [
      "False\n",
      "False\n",
      "True\n",
      "False\n"
     ]
    }
   ],
   "source": [
    "a = \"my name is khan\"\n",
    "print(a.istitle())\n",
    "\n",
    "a = \"My Name is Khan\"\n",
    "print(a.istitle())\n",
    "\n",
    "a = \"My Name Is Khan\"  #Only this one follows rule of title\n",
    "print(a.istitle())\n",
    "\n",
    "a = \"MY NAME IS KHAN\"\n",
    "print(a.istitle())\n",
    "\n",
    "#Returns True if the string is a titlecased"
   ]
  },
  {
   "cell_type": "code",
   "execution_count": 49,
   "metadata": {},
   "outputs": [
    {
     "name": "stdout",
     "output_type": "stream",
     "text": [
      "False\n",
      "False\n",
      "True\n",
      "False\n",
      "True\n"
     ]
    }
   ],
   "source": [
    "a = \" \"\n",
    "print(a.isupper())\n",
    "\n",
    "a = \"123\"\n",
    "print(a.isupper())\n",
    "\n",
    "a = \"USER 123\"\n",
    "print(a.isupper())\n",
    "\n",
    "a = \"Hello\"\n",
    "print(a.isupper())\n",
    "\n",
    "a = \"HELLO\"\n",
    "print(a.isupper())\n",
    "\n",
    "#returns True if all the cased characters are in Uppercase. returns False If string is empty or there are no cased characters"
   ]
  },
  {
   "cell_type": "code",
   "execution_count": 71,
   "metadata": {},
   "outputs": [
    {
     "name": "stdout",
     "output_type": "stream",
     "text": [
      "1-2-3\n",
      "U.S.A\n",
      "Dr. Faheem\n",
      "mera \"pakistan\" tera \"pakistan\" \n"
     ]
    }
   ],
   "source": [
    "a = \"-\"\n",
    "print(a.join(\"123\"))\n",
    "\n",
    "a = \".\"\n",
    "print(a.join(\"USA\"))\n",
    "\n",
    "a = \". \"\n",
    "b = (\"Dr\",\"Faheem\") # a tuple\n",
    "print(a.join(b))\n",
    "\n",
    "c = ' \"pakistan\" '\n",
    "d = 'mera', 'tera', ''\n",
    "print(c.join(d))"
   ]
  },
  {
   "cell_type": "code",
   "execution_count": 77,
   "metadata": {},
   "outputs": [
    {
     "name": "stdout",
     "output_type": "stream",
     "text": [
      "Python    \n",
      "Python---------\n"
     ]
    }
   ],
   "source": [
    "v='Python'\n",
    "print (v.ljust(10))\n",
    "\n",
    "print (v.ljust(15,'-'))\n",
    "\n",
    "#Returns a padded version of String with the original String left-justified to a total of width columns\n",
    "#By default, the padding uses a space. Otherwise ‘fillchar’ specifies the filler character."
   ]
  },
  {
   "cell_type": "code",
   "execution_count": 98,
   "metadata": {},
   "outputs": [
    {
     "name": "stdout",
     "output_type": "stream",
     "text": [
      "    Python\n",
      "---------Python\n"
     ]
    }
   ],
   "source": [
    "v='Python'\n",
    "print (v.rjust(10))\n",
    "\n",
    "print (v.rjust(15,'-'))"
   ]
  },
  {
   "cell_type": "code",
   "execution_count": 82,
   "metadata": {},
   "outputs": [
    {
     "name": "stdout",
     "output_type": "stream",
     "text": [
      "Hello !\n",
      "Hello\n"
     ]
    }
   ],
   "source": [
    "a = \"      Hello      \"\n",
    "print(a.strip(), \"!\")\n",
    "\n",
    "a = \"-----Hello-----\"\n",
    "print(a.strip(\"-\"))\n",
    "\n",
    "#Returns a trimmed version of the string"
   ]
  },
  {
   "cell_type": "code",
   "execution_count": 78,
   "metadata": {},
   "outputs": [
    {
     "name": "stdout",
     "output_type": "stream",
     "text": [
      "Hello       !\n",
      "Hello-----\n"
     ]
    }
   ],
   "source": [
    "a = \"      Hello      \"\n",
    "print(a.lstrip(), \"!\")\n",
    "\n",
    "a = \"-----Hello-----\"\n",
    "print(a.lstrip(\"-\"))\n",
    "\n",
    "#Returns a left trim version of the string"
   ]
  },
  {
   "cell_type": "code",
   "execution_count": 81,
   "metadata": {},
   "outputs": [
    {
     "name": "stdout",
     "output_type": "stream",
     "text": [
      "      Hello\n",
      "-----Hello\n"
     ]
    }
   ],
   "source": [
    "a = \"      Hello      \"\n",
    "print(a.rstrip())\n",
    "\n",
    "a = \"-----Hello-----\"\n",
    "print(a.rstrip(\"-\"))\n",
    "\n",
    "##Returns a Right trim version of the string"
   ]
  },
  {
   "cell_type": "code",
   "execution_count": 99,
   "metadata": {},
   "outputs": [
    {
     "name": "stdout",
     "output_type": "stream",
     "text": [
      "('Python', '-', 'program')\n",
      "('Python-program', '', '')\n"
     ]
    }
   ],
   "source": [
    "a = \"Python-program\"\n",
    "\n",
    "print(a.partition(\"-\"))\n",
    "print(a.partition(\".\"))"
   ]
  },
  {
   "cell_type": "code",
   "execution_count": 100,
   "metadata": {},
   "outputs": [
    {
     "name": "stdout",
     "output_type": "stream",
     "text": [
      "('Python', '-', 'program')\n",
      "('', '', 'Python-program')\n"
     ]
    }
   ],
   "source": [
    "a = \"Python-program\"\n",
    "\n",
    "print(a.rpartition(\"-\"))\n",
    "print(a.rpartition(\".\"))"
   ]
  },
  {
   "cell_type": "code",
   "execution_count": 83,
   "metadata": {},
   "outputs": [
    {
     "name": "stdout",
     "output_type": "stream",
     "text": [
      "Coffee bag. Coffee cup. Coffee leaves.\n",
      "Coffee bag. Coffee cup. Tea leaves.\n"
     ]
    }
   ],
   "source": [
    "a = \"Tea bag. Tea cup. Tea leaves.\"\n",
    "\n",
    "print(a.replace(\"Tea\", \"Coffee\"))\n",
    "print(a.replace(\"Tea\", \"Coffee\", 2)) #replace(old, new, count) \n",
    "\n",
    "#Returns a copy of the string with all occurrences of substring old replaced by new. \n",
    "#If the optional argument count is provided, only the first count occurrences are replaced."
   ]
  },
  {
   "cell_type": "code",
   "execution_count": 103,
   "metadata": {},
   "outputs": [
    {
     "name": "stdout",
     "output_type": "stream",
     "text": [
      "['i', 'love', 'my', 'country']\n"
     ]
    }
   ],
   "source": [
    "a = \"i love my country\"\n",
    "print(a.split())\n",
    "#Returns a list of substring obtained after splitting the String"
   ]
  },
  {
   "cell_type": "code",
   "execution_count": 118,
   "metadata": {},
   "outputs": [
    {
     "name": "stdout",
     "output_type": "stream",
     "text": [
      "Once upon a time \n",
      "There was a crow \n",
      "He was very thirsty\n",
      "['Once upon a time ', 'There was a crow ', 'He was very thirsty']\n"
     ]
    }
   ],
   "source": [
    "a = \"Once upon a time \\nThere was a crow \\nHe was very thirsty\"\n",
    "print(a)\n",
    "print(a.splitlines())\n",
    "\n",
    "#Splits the string at line breaks and returns a list\n"
   ]
  },
  {
   "cell_type": "code",
   "execution_count": 120,
   "metadata": {},
   "outputs": [
    {
     "name": "stdout",
     "output_type": "stream",
     "text": [
      "True\n",
      "False\n",
      "True\n",
      "False\n",
      "True\n"
     ]
    }
   ],
   "source": [
    "a = \"Hello\"\n",
    "print(a.startswith(\"H\"))\n",
    "print(a.startswith(\"h\"))\n",
    "print(a.startswith(\"Hello\"))\n",
    "print(a.startswith(\"z\"))\n",
    "print(a.startswith(\"el\", 1, 3))\n",
    "\n",
    "#Returns true if the string starts with the specified value\n"
   ]
  },
  {
   "cell_type": "code",
   "execution_count": 123,
   "metadata": {},
   "outputs": [
    {
     "name": "stdout",
     "output_type": "stream",
     "text": [
      "hELLO wORLD\n",
      "Hello World\n"
     ]
    }
   ],
   "source": [
    "a = \"Hello World\"\n",
    "print(a.swapcase())\n",
    "b = \"hELLO wORLD\"\n",
    "print(b.swapcase())\n",
    "\n",
    "#Swaps cases, lower case becomes upper case and vice versa"
   ]
  },
  {
   "cell_type": "code",
   "execution_count": 124,
   "metadata": {},
   "outputs": [
    {
     "name": "stdout",
     "output_type": "stream",
     "text": [
      "Tea And Coffee\n",
      "Tea And Coffee\n"
     ]
    }
   ],
   "source": [
    "a = \"tea and coffee\"\n",
    "print(a.title())\n",
    "\n",
    "a = \"TEA AND COFFEE\"\n",
    "print(a.title())\n",
    "\n",
    "#Converts the first character of each word to upper case"
   ]
  },
  {
   "cell_type": "code",
   "execution_count": 125,
   "metadata": {},
   "outputs": [
    {
     "name": "stdout",
     "output_type": "stream",
     "text": [
      "00036\n",
      "-0036\n",
      "+0036\n"
     ]
    }
   ],
   "source": [
    "a = \"36\"\n",
    "print(a.zfill(5))\n",
    "\n",
    "a = \"-36\"\n",
    "print(a.zfill(5))\n",
    "\n",
    "a = \"+36\"\n",
    "print(a.zfill(5))\n",
    "\n",
    "#Fills the string with a specified number of 0 values at the beginning\n"
   ]
  },
  {
   "cell_type": "code",
   "execution_count": null,
   "metadata": {},
   "outputs": [],
   "source": []
  }
 ],
 "metadata": {
  "kernelspec": {
   "display_name": "Python 3",
   "language": "python",
   "name": "python3"
  },
  "language_info": {
   "codemirror_mode": {
    "name": "ipython",
    "version": 3
   },
   "file_extension": ".py",
   "mimetype": "text/x-python",
   "name": "python",
   "nbconvert_exporter": "python",
   "pygments_lexer": "ipython3",
   "version": "3.7.4"
  }
 },
 "nbformat": 4,
 "nbformat_minor": 2
}
